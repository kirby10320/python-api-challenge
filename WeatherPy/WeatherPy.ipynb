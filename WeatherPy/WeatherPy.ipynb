{
 "cells": [
  {
   "cell_type": "markdown",
   "metadata": {},
   "source": [
    "\n",
    "# WeatherPy\n",
    "\n",
    "Observation 1: Southern Hemisphere climates tend to be slightly milder than those at similar latitudes in the Northern Hemisphere. This is because teh Southern Hemisphere has significantly more ocean and much less land; water heats up and cools down more slowly than land.\n",
    "\n",
    "Observation 2: Highest temperature is found at 0 latituted and as the latitude increases or decreases, temperature drops. This happens as equatorial region receives sunlight straight with less or no angle due to curvature shape of the earth.\n",
    "\n",
    "Observation 3: Latitude doesn't have a storng influence on wind speed. The speed of the wind is controlled by the strength of the air pressure gradient, the stonger the pressure gradient the higher the higher the wind speed."
   ]
  },
  {
   "cell_type": "code",
   "execution_count": 1,
   "metadata": {
    "scrolled": true
   },
   "outputs": [],
   "source": [
    "# Dependencies and Setup\n",
    "import matplotlib.pyplot as plt\n",
    "import pandas as pd\n",
    "import numpy as np\n",
    "import requests\n",
    "import time\n",
    "import scipy.stats as st\n",
    "from scipy.stats import linregress\n",
    "import datetime\n",
    "from datetime import date\n",
    "\n",
    "# Import API key\n",
    "from config import weather_api_key\n",
    "\n",
    "# Incorporated citipy to determine city based on latitude and longitude\n",
    "from citipy import citipy\n",
    "\n",
    "# Output File (CSV)\n",
    "output_data_file = \"output_data/cities.csv\"\n",
    "\n",
    "# Range of latitudes and longitudes\n",
    "lat_range = (-90, 90)\n",
    "lng_range = (-180, 180)"
   ]
  },
  {
   "cell_type": "markdown",
   "metadata": {},
   "source": [
    "## Generate Cities List"
   ]
  },
  {
   "cell_type": "code",
   "execution_count": 2,
   "metadata": {},
   "outputs": [
    {
     "data": {
      "text/plain": [
       "133"
      ]
     },
     "execution_count": 2,
     "metadata": {},
     "output_type": "execute_result"
    }
   ],
   "source": [
    "# List for lat_lngs, cities\n",
    "lat_lngs = []\n",
    "cities = []\n",
    "\n",
    "# Random lat and lng combos\n",
    "lats = np.random.uniform(lat_range[0], lat_range[1], size=200)\n",
    "lngs = np.random.uniform(lng_range[0], lng_range[1], size=200)\n",
    "lat_lngs = zip(lats, lngs)\n",
    "\n",
    "# Narest city for each lat, lng combination\n",
    "for lat_lng in lat_lngs:\n",
    "    city = citipy.nearest_city(lat_lng[0], lat_lng[1]).city_name\n",
    "    \n",
    "    # If the city is unique, then add it to a our cities list\n",
    "    if city not in cities:\n",
    "        cities.append(city)\n",
    "\n",
    "# Print city count\n",
    "len(cities)\n"
   ]
  },
  {
   "cell_type": "code",
   "execution_count": 3,
   "metadata": {},
   "outputs": [],
   "source": [
    "#Create lists\n",
    "city_name_list = []\n",
    "cloudiness_list = []\n",
    "country_list = []\n",
    "date_list = []\n",
    "humidity_list = []\n",
    "lat_list = []\n",
    "lng_list = []\n",
    "max_temp_list = []\n",
    "wind_speed_list = []\n",
    "index_counter = 0\n",
    "set_counter = 1"
   ]
  },
  {
   "cell_type": "markdown",
   "metadata": {},
   "source": [
    "### Perform API Calls\n",
    "* Perform a weather check on each city using a series of successive API calls.\n",
    "* Include a print log of each city as it'sbeing processed (with the city number and city name).\n"
   ]
  },
  {
   "cell_type": "code",
   "execution_count": 4,
   "metadata": {
    "scrolled": true
   },
   "outputs": [
    {
     "name": "stdout",
     "output_type": "stream",
     "text": [
      "Beginning Data Retrieval \n",
      "-----------------------------\n",
      "Processing Record 1 of Set 1 : matara\n",
      "Processing Record 2 of Set 1 : alyangula\n",
      "Processing Record 3 of Set 1 : busselton\n",
      "Processing Record 4 of Set 1 : punta arenas\n",
      "Processing Record 5 of Set 1 : albany\n",
      "Processing Record 6 of Set 1 : mashhad\n",
      "Processing Record 7 of Set 1 : quatre cocos\n",
      "Processing Record 8 of Set 1 : ponta do sol\n",
      "Processing Record 9 of Set 1 : atuona\n",
      "Processing Record 10 of Set 1 : longyearbyen\n",
      "Processing Record 11 of Set 1 : butaritari\n",
      "City not found. Skipping...\n",
      "Processing Record 12 of Set 1 : mogadishu\n",
      "Processing Record 13 of Set 1 : severo-kurilsk\n",
      "Processing Record 14 of Set 1 : boddam\n",
      "Processing Record 15 of Set 1 : vao\n",
      "Processing Record 16 of Set 1 : kapaa\n",
      "Processing Record 17 of Set 1 : hermanus\n",
      "Processing Record 18 of Set 1 : morrisburg\n",
      "Processing Record 19 of Set 1 : ushuaia\n",
      "Processing Record 20 of Set 1 : narsaq\n",
      "Processing Record 21 of Set 1 : yellowknife\n",
      "Processing Record 22 of Set 1 : port lincoln\n",
      "Processing Record 23 of Set 1 : puerto ayora\n",
      "Processing Record 24 of Set 1 : saint-louis\n",
      "City not found. Skipping...\n",
      "Processing Record 25 of Set 1 : esperance\n",
      "Processing Record 26 of Set 1 : namibe\n",
      "Processing Record 27 of Set 1 : arkhipo-osipovka\n",
      "Processing Record 28 of Set 1 : cabo san lucas\n",
      "City not found. Skipping...\n",
      "Processing Record 29 of Set 1 : xining\n",
      "City not found. Skipping...\n",
      "Processing Record 30 of Set 1 : cape town\n",
      "Processing Record 31 of Set 1 : bougouni\n",
      "Processing Record 32 of Set 1 : amahai\n",
      "Processing Record 33 of Set 1 : manokwari\n",
      "Processing Record 34 of Set 1 : najran\n",
      "Processing Record 35 of Set 1 : saint-francois\n",
      "Processing Record 36 of Set 1 : sovetskiy\n",
      "Processing Record 37 of Set 1 : tuktoyaktuk\n",
      "Processing Record 38 of Set 1 : kanniyakumari\n",
      "Processing Record 39 of Set 1 : katsuura\n",
      "Processing Record 40 of Set 1 : bluff\n",
      "Processing Record 41 of Set 1 : barrow\n",
      "Processing Record 42 of Set 1 : mujiayingzi\n",
      "Processing Record 43 of Set 1 : bitung\n",
      "Processing Record 44 of Set 1 : pemba\n",
      "City not found. Skipping...\n",
      "City not found. Skipping...\n",
      "Processing Record 45 of Set 1 : pasni\n",
      "Processing Record 46 of Set 1 : rikitea\n",
      "Processing Record 47 of Set 1 : mataura\n",
      "Processing Record 48 of Set 1 : bethel\n",
      "Processing Record 49 of Set 1 : padang\n",
      "Processing Record 50 of Set 1 : praia da vitoria\n",
      "Processing Record 0 of Set 2 : bandiagara\n",
      "Processing Record 1 of Set 2 : klaksvik\n",
      "Processing Record 2 of Set 2 : mandalgovi\n",
      "Processing Record 3 of Set 2 : doha\n",
      "Processing Record 4 of Set 2 : lagoa\n",
      "Processing Record 5 of Set 2 : castro\n",
      "Processing Record 6 of Set 2 : faanui\n",
      "Processing Record 7 of Set 2 : saldanha\n",
      "Processing Record 8 of Set 2 : upernavik\n",
      "City not found. Skipping...\n",
      "Processing Record 9 of Set 2 : kruisfontein\n",
      "Processing Record 10 of Set 2 : nizhnevartovsk\n",
      "Processing Record 11 of Set 2 : jamestown\n",
      "Processing Record 12 of Set 2 : inverell\n",
      "Processing Record 13 of Set 2 : hammerfest\n",
      "Processing Record 14 of Set 2 : bredasdorp\n",
      "Processing Record 15 of Set 2 : bheramara\n",
      "Processing Record 16 of Set 2 : klyuchi\n",
      "Processing Record 17 of Set 2 : hilo\n",
      "Processing Record 18 of Set 2 : yeppoon\n",
      "Processing Record 19 of Set 2 : cherskiy\n",
      "Processing Record 20 of Set 2 : victoria\n",
      "Processing Record 21 of Set 2 : sao miguel do araguaia\n",
      "Processing Record 22 of Set 2 : krasnoselkup\n",
      "Processing Record 23 of Set 2 : dikson\n",
      "Processing Record 24 of Set 2 : new norfolk\n",
      "Processing Record 25 of Set 2 : menongue\n",
      "Processing Record 26 of Set 2 : mnogovershinnyy\n",
      "Processing Record 27 of Set 2 : kimbe\n",
      "Processing Record 28 of Set 2 : nicoya\n",
      "Processing Record 29 of Set 2 : henderson\n",
      "Processing Record 30 of Set 2 : rosetta\n",
      "Processing Record 31 of Set 2 : namatanai\n",
      "Processing Record 32 of Set 2 : lyuban\n",
      "Processing Record 33 of Set 2 : port elizabeth\n",
      "Processing Record 34 of Set 2 : shiojiri\n",
      "Processing Record 35 of Set 2 : port hardy\n",
      "Processing Record 36 of Set 2 : saskylakh\n",
      "Processing Record 37 of Set 2 : saint anthony\n",
      "Processing Record 38 of Set 2 : norman wells\n",
      "Processing Record 39 of Set 2 : tiruchchendur\n",
      "Processing Record 40 of Set 2 : fortuna\n",
      "Processing Record 41 of Set 2 : praia\n",
      "Processing Record 42 of Set 2 : ahipara\n",
      "Processing Record 43 of Set 2 : puerto baquerizo moreno\n",
      "City not found. Skipping...\n",
      "Processing Record 44 of Set 2 : thompson\n",
      "Processing Record 45 of Set 2 : xinxiang\n",
      "Processing Record 46 of Set 2 : asau\n",
      "Processing Record 47 of Set 2 : kiama\n",
      "Processing Record 48 of Set 2 : havoysund\n",
      "Processing Record 49 of Set 2 : komsomolskiy\n",
      "Processing Record 50 of Set 2 : erenhot\n",
      "Processing Record 0 of Set 3 : sterling\n",
      "Processing Record 1 of Set 3 : aswan\n",
      "Processing Record 2 of Set 3 : hithadhoo\n",
      "Processing Record 3 of Set 3 : east bethel\n",
      "Processing Record 4 of Set 3 : vaini\n",
      "Processing Record 5 of Set 3 : vysokogornyy\n",
      "Processing Record 6 of Set 3 : mar del plata\n",
      "City not found. Skipping...\n",
      "Processing Record 7 of Set 3 : cabedelo\n",
      "Processing Record 8 of Set 3 : georgetown\n",
      "Processing Record 9 of Set 3 : araguacu\n",
      "Processing Record 10 of Set 3 : qaanaaq\n",
      "Processing Record 11 of Set 3 : hamilton\n",
      "Processing Record 12 of Set 3 : mount gambier\n",
      "City not found. Skipping...\n",
      "Processing Record 13 of Set 3 : port alfred\n",
      "Processing Record 14 of Set 3 : clyde river\n",
      "Processing Record 15 of Set 3 : manzhouli\n",
      "Processing Record 16 of Set 3 : lavrentiya\n",
      "Processing Record 17 of Set 3 : havre-saint-pierre\n",
      "Processing Record 18 of Set 3 : hobart\n",
      "Processing Record 19 of Set 3 : langres\n",
      "Processing Record 20 of Set 3 : haines junction\n",
      "Processing Record 21 of Set 3 : ilulissat\n",
      "----------------------------\n",
      "Data Retrieval Complete\n",
      "----------------------------\n"
     ]
    }
   ],
   "source": [
    "print(\"Beginning Data Retrieval \")\n",
    "print(\"-----------------------------\")\n",
    "\n",
    "base_url = \"http://api.openweathermap.org/data/2.5/weather?\"\n",
    "units = \"imperial\"\n",
    "query_url = f\"{base_url}appid={weather_api_key}&units={units}&q=\"\n",
    "\n",
    "# For each city name in cities list, do the following...\n",
    "for index, city in enumerate(cities, start = 1):\n",
    "    try:\n",
    "        response = requests.get(query_url + city).json()\n",
    "        city_name_list.append(response['name'])\n",
    "        cloudiness_list.append(response['clouds']['all'])\n",
    "        country_list.append(response['sys']['country'])\n",
    "        date_list.append(response[\"dt\"])\n",
    "        humidity_list.append(response['main']['humidity'])\n",
    "        lat_list.append(response['coord']['lat'])\n",
    "        lng_list.append(response['coord']['lon'])\n",
    "        max_temp_list.append(response['main']['temp_max'])\n",
    "        wind_speed_list.append(response['wind']['speed'])\n",
    "        if index_counter > 49:\n",
    "            index_counter = 0\n",
    "            set_counter = set_counter + 1\n",
    "        else:\n",
    "            index_counter = index_counter + 1\n",
    "        print(f\"Processing Record {index_counter} of Set {set_counter} : {city}\")\n",
    "    \n",
    "    except(KeyError, IndexError):\n",
    "        print(\"City not found. Skipping...\")\n",
    "\n",
    "print(\"----------------------------\")\n",
    "print(\"Data Retrieval Complete\")\n",
    "print(\"----------------------------\")"
   ]
  },
  {
   "cell_type": "markdown",
   "metadata": {},
   "source": [
    "### Convert Raw Data to DataFrame\n",
    "* Export the city data into a .csv.\n",
    "* Display the DataFrame"
   ]
  },
  {
   "cell_type": "code",
   "execution_count": 5,
   "metadata": {},
   "outputs": [],
   "source": [
    "# Create initial dictionary with API calls\n",
    "weather_dict = pd.DataFrame ({\"City\":city_name_list,\n",
    "                            \"Cloudiness\":cloudiness_list,\n",
    "                            \"Country\" : country_list,\n",
    "                            \"Date\" : date_list,\n",
    "                            \"Humidity\":humidity_list,\n",
    "                            \"Lat\":lat_list,\n",
    "                            \"Lng\":lng_list,\n",
    "                            \"Max Temp\":max_temp_list,\n",
    "                            \"Wind Speed\":wind_speed_list})"
   ]
  },
  {
   "cell_type": "code",
   "execution_count": 6,
   "metadata": {},
   "outputs": [
    {
     "data": {
      "text/html": [
       "<div>\n",
       "<style scoped>\n",
       "    .dataframe tbody tr th:only-of-type {\n",
       "        vertical-align: middle;\n",
       "    }\n",
       "\n",
       "    .dataframe tbody tr th {\n",
       "        vertical-align: top;\n",
       "    }\n",
       "\n",
       "    .dataframe thead th {\n",
       "        text-align: right;\n",
       "    }\n",
       "</style>\n",
       "<table border=\"1\" class=\"dataframe\">\n",
       "  <thead>\n",
       "    <tr style=\"text-align: right;\">\n",
       "      <th></th>\n",
       "      <th>Cloudiness</th>\n",
       "      <th>Date</th>\n",
       "      <th>Humidity</th>\n",
       "      <th>Lat</th>\n",
       "      <th>Lng</th>\n",
       "      <th>Max Temp</th>\n",
       "      <th>Wind Speed</th>\n",
       "    </tr>\n",
       "  </thead>\n",
       "  <tbody>\n",
       "    <tr>\n",
       "      <th>count</th>\n",
       "      <td>123.000000</td>\n",
       "      <td>1.230000e+02</td>\n",
       "      <td>123.000000</td>\n",
       "      <td>123.000000</td>\n",
       "      <td>123.000000</td>\n",
       "      <td>123.000000</td>\n",
       "      <td>123.000000</td>\n",
       "    </tr>\n",
       "    <tr>\n",
       "      <th>mean</th>\n",
       "      <td>50.691057</td>\n",
       "      <td>1.613230e+09</td>\n",
       "      <td>72.227642</td>\n",
       "      <td>18.563832</td>\n",
       "      <td>19.740167</td>\n",
       "      <td>47.304390</td>\n",
       "      <td>9.126911</td>\n",
       "    </tr>\n",
       "    <tr>\n",
       "      <th>std</th>\n",
       "      <td>41.604920</td>\n",
       "      <td>5.763404e+01</td>\n",
       "      <td>20.227320</td>\n",
       "      <td>37.322067</td>\n",
       "      <td>98.528101</td>\n",
       "      <td>35.596747</td>\n",
       "      <td>7.240438</td>\n",
       "    </tr>\n",
       "    <tr>\n",
       "      <th>min</th>\n",
       "      <td>0.000000</td>\n",
       "      <td>1.613229e+09</td>\n",
       "      <td>7.000000</td>\n",
       "      <td>-54.800000</td>\n",
       "      <td>-175.200000</td>\n",
       "      <td>-40.000000</td>\n",
       "      <td>0.760000</td>\n",
       "    </tr>\n",
       "    <tr>\n",
       "      <th>25%</th>\n",
       "      <td>1.000000</td>\n",
       "      <td>1.613230e+09</td>\n",
       "      <td>64.000000</td>\n",
       "      <td>-13.561650</td>\n",
       "      <td>-68.445700</td>\n",
       "      <td>20.705000</td>\n",
       "      <td>4.610000</td>\n",
       "    </tr>\n",
       "    <tr>\n",
       "      <th>50%</th>\n",
       "      <td>53.000000</td>\n",
       "      <td>1.613230e+09</td>\n",
       "      <td>77.000000</td>\n",
       "      <td>24.023200</td>\n",
       "      <td>24.731400</td>\n",
       "      <td>57.990000</td>\n",
       "      <td>6.910000</td>\n",
       "    </tr>\n",
       "    <tr>\n",
       "      <th>75%</th>\n",
       "      <td>90.000000</td>\n",
       "      <td>1.613230e+09</td>\n",
       "      <td>86.000000</td>\n",
       "      <td>48.716650</td>\n",
       "      <td>112.921950</td>\n",
       "      <td>78.410000</td>\n",
       "      <td>11.140000</td>\n",
       "    </tr>\n",
       "    <tr>\n",
       "      <th>max</th>\n",
       "      <td>100.000000</td>\n",
       "      <td>1.613230e+09</td>\n",
       "      <td>100.000000</td>\n",
       "      <td>78.218600</td>\n",
       "      <td>173.166700</td>\n",
       "      <td>105.330000</td>\n",
       "      <td>38.700000</td>\n",
       "    </tr>\n",
       "  </tbody>\n",
       "</table>\n",
       "</div>"
      ],
      "text/plain": [
       "       Cloudiness          Date    Humidity         Lat         Lng  \\\n",
       "count  123.000000  1.230000e+02  123.000000  123.000000  123.000000   \n",
       "mean    50.691057  1.613230e+09   72.227642   18.563832   19.740167   \n",
       "std     41.604920  5.763404e+01   20.227320   37.322067   98.528101   \n",
       "min      0.000000  1.613229e+09    7.000000  -54.800000 -175.200000   \n",
       "25%      1.000000  1.613230e+09   64.000000  -13.561650  -68.445700   \n",
       "50%     53.000000  1.613230e+09   77.000000   24.023200   24.731400   \n",
       "75%     90.000000  1.613230e+09   86.000000   48.716650  112.921950   \n",
       "max    100.000000  1.613230e+09  100.000000   78.218600  173.166700   \n",
       "\n",
       "         Max Temp  Wind Speed  \n",
       "count  123.000000  123.000000  \n",
       "mean    47.304390    9.126911  \n",
       "std     35.596747    7.240438  \n",
       "min    -40.000000    0.760000  \n",
       "25%     20.705000    4.610000  \n",
       "50%     57.990000    6.910000  \n",
       "75%     78.410000   11.140000  \n",
       "max    105.330000   38.700000  "
      ]
     },
     "execution_count": 6,
     "metadata": {},
     "output_type": "execute_result"
    }
   ],
   "source": [
    "weather_dict.count()\n",
    "# Display the Data Frame\n",
    "weather_dict\n",
    "weather_dict.describe()"
   ]
  },
  {
   "cell_type": "code",
   "execution_count": 7,
   "metadata": {},
   "outputs": [],
   "source": [
    "# Save city data into a csv file\n",
    "weather_dict.to_csv(\"cities.csv\", index = False)"
   ]
  },
  {
   "cell_type": "markdown",
   "metadata": {},
   "source": [
    "## Inspect the data and remove the cities where the humidity > 100%.\n",
    "----\n",
    "Skip this step if there are no cities that have humidity > 100%. "
   ]
  },
  {
   "cell_type": "code",
   "execution_count": 8,
   "metadata": {},
   "outputs": [
    {
     "data": {
      "text/html": [
       "<div>\n",
       "<style scoped>\n",
       "    .dataframe tbody tr th:only-of-type {\n",
       "        vertical-align: middle;\n",
       "    }\n",
       "\n",
       "    .dataframe tbody tr th {\n",
       "        vertical-align: top;\n",
       "    }\n",
       "\n",
       "    .dataframe thead th {\n",
       "        text-align: right;\n",
       "    }\n",
       "</style>\n",
       "<table border=\"1\" class=\"dataframe\">\n",
       "  <thead>\n",
       "    <tr style=\"text-align: right;\">\n",
       "      <th></th>\n",
       "      <th>Cloudiness</th>\n",
       "      <th>Date</th>\n",
       "      <th>Humidity</th>\n",
       "      <th>Lat</th>\n",
       "      <th>Lng</th>\n",
       "      <th>Max Temp</th>\n",
       "      <th>Wind Speed</th>\n",
       "    </tr>\n",
       "  </thead>\n",
       "  <tbody>\n",
       "    <tr>\n",
       "      <th>count</th>\n",
       "      <td>123.000000</td>\n",
       "      <td>1.230000e+02</td>\n",
       "      <td>123.000000</td>\n",
       "      <td>123.000000</td>\n",
       "      <td>123.000000</td>\n",
       "      <td>123.000000</td>\n",
       "      <td>123.000000</td>\n",
       "    </tr>\n",
       "    <tr>\n",
       "      <th>mean</th>\n",
       "      <td>50.691057</td>\n",
       "      <td>1.613230e+09</td>\n",
       "      <td>72.227642</td>\n",
       "      <td>18.563832</td>\n",
       "      <td>19.740167</td>\n",
       "      <td>47.304390</td>\n",
       "      <td>9.126911</td>\n",
       "    </tr>\n",
       "    <tr>\n",
       "      <th>std</th>\n",
       "      <td>41.604920</td>\n",
       "      <td>5.763404e+01</td>\n",
       "      <td>20.227320</td>\n",
       "      <td>37.322067</td>\n",
       "      <td>98.528101</td>\n",
       "      <td>35.596747</td>\n",
       "      <td>7.240438</td>\n",
       "    </tr>\n",
       "    <tr>\n",
       "      <th>min</th>\n",
       "      <td>0.000000</td>\n",
       "      <td>1.613229e+09</td>\n",
       "      <td>7.000000</td>\n",
       "      <td>-54.800000</td>\n",
       "      <td>-175.200000</td>\n",
       "      <td>-40.000000</td>\n",
       "      <td>0.760000</td>\n",
       "    </tr>\n",
       "    <tr>\n",
       "      <th>25%</th>\n",
       "      <td>1.000000</td>\n",
       "      <td>1.613230e+09</td>\n",
       "      <td>64.000000</td>\n",
       "      <td>-13.561650</td>\n",
       "      <td>-68.445700</td>\n",
       "      <td>20.705000</td>\n",
       "      <td>4.610000</td>\n",
       "    </tr>\n",
       "    <tr>\n",
       "      <th>50%</th>\n",
       "      <td>53.000000</td>\n",
       "      <td>1.613230e+09</td>\n",
       "      <td>77.000000</td>\n",
       "      <td>24.023200</td>\n",
       "      <td>24.731400</td>\n",
       "      <td>57.990000</td>\n",
       "      <td>6.910000</td>\n",
       "    </tr>\n",
       "    <tr>\n",
       "      <th>75%</th>\n",
       "      <td>90.000000</td>\n",
       "      <td>1.613230e+09</td>\n",
       "      <td>86.000000</td>\n",
       "      <td>48.716650</td>\n",
       "      <td>112.921950</td>\n",
       "      <td>78.410000</td>\n",
       "      <td>11.140000</td>\n",
       "    </tr>\n",
       "    <tr>\n",
       "      <th>max</th>\n",
       "      <td>100.000000</td>\n",
       "      <td>1.613230e+09</td>\n",
       "      <td>100.000000</td>\n",
       "      <td>78.218600</td>\n",
       "      <td>173.166700</td>\n",
       "      <td>105.330000</td>\n",
       "      <td>38.700000</td>\n",
       "    </tr>\n",
       "  </tbody>\n",
       "</table>\n",
       "</div>"
      ],
      "text/plain": [
       "       Cloudiness          Date    Humidity         Lat         Lng  \\\n",
       "count  123.000000  1.230000e+02  123.000000  123.000000  123.000000   \n",
       "mean    50.691057  1.613230e+09   72.227642   18.563832   19.740167   \n",
       "std     41.604920  5.763404e+01   20.227320   37.322067   98.528101   \n",
       "min      0.000000  1.613229e+09    7.000000  -54.800000 -175.200000   \n",
       "25%      1.000000  1.613230e+09   64.000000  -13.561650  -68.445700   \n",
       "50%     53.000000  1.613230e+09   77.000000   24.023200   24.731400   \n",
       "75%     90.000000  1.613230e+09   86.000000   48.716650  112.921950   \n",
       "max    100.000000  1.613230e+09  100.000000   78.218600  173.166700   \n",
       "\n",
       "         Max Temp  Wind Speed  \n",
       "count  123.000000  123.000000  \n",
       "mean    47.304390    9.126911  \n",
       "std     35.596747    7.240438  \n",
       "min    -40.000000    0.760000  \n",
       "25%     20.705000    4.610000  \n",
       "50%     57.990000    6.910000  \n",
       "75%     78.410000   11.140000  \n",
       "max    105.330000   38.700000  "
      ]
     },
     "execution_count": 8,
     "metadata": {},
     "output_type": "execute_result"
    }
   ],
   "source": [
    "dry_cities = weather_dict[weather_dict[\"Humidity\"]<=100]\n",
    "dry_cities.describe()"
   ]
  },
  {
   "cell_type": "code",
   "execution_count": 9,
   "metadata": {},
   "outputs": [
    {
     "name": "stdout",
     "output_type": "stream",
     "text": [
      "There are 0 cities with over 100% humidity\n"
     ]
    }
   ],
   "source": [
    "#  Get the indices of cities that have humidity over 100%.\n",
    "high_humid = weather_dict.index[weather_dict[\"Humidity\"]>100].tolist()\n",
    "\n",
    "print(f\"There are {len(high_humid)} cities with over 100% humidity\")"
   ]
  },
  {
   "cell_type": "code",
   "execution_count": 10,
   "metadata": {},
   "outputs": [
    {
     "data": {
      "text/html": [
       "<div>\n",
       "<style scoped>\n",
       "    .dataframe tbody tr th:only-of-type {\n",
       "        vertical-align: middle;\n",
       "    }\n",
       "\n",
       "    .dataframe tbody tr th {\n",
       "        vertical-align: top;\n",
       "    }\n",
       "\n",
       "    .dataframe thead th {\n",
       "        text-align: right;\n",
       "    }\n",
       "</style>\n",
       "<table border=\"1\" class=\"dataframe\">\n",
       "  <thead>\n",
       "    <tr style=\"text-align: right;\">\n",
       "      <th></th>\n",
       "      <th>Cloudiness</th>\n",
       "      <th>Date</th>\n",
       "      <th>Humidity</th>\n",
       "      <th>Lat</th>\n",
       "      <th>Lng</th>\n",
       "      <th>Max Temp</th>\n",
       "      <th>Wind Speed</th>\n",
       "    </tr>\n",
       "  </thead>\n",
       "  <tbody>\n",
       "    <tr>\n",
       "      <th>count</th>\n",
       "      <td>123.000000</td>\n",
       "      <td>1.230000e+02</td>\n",
       "      <td>123.000000</td>\n",
       "      <td>123.000000</td>\n",
       "      <td>123.000000</td>\n",
       "      <td>123.000000</td>\n",
       "      <td>123.000000</td>\n",
       "    </tr>\n",
       "    <tr>\n",
       "      <th>mean</th>\n",
       "      <td>50.691057</td>\n",
       "      <td>1.613230e+09</td>\n",
       "      <td>72.227642</td>\n",
       "      <td>18.563832</td>\n",
       "      <td>19.740167</td>\n",
       "      <td>47.304390</td>\n",
       "      <td>9.126911</td>\n",
       "    </tr>\n",
       "    <tr>\n",
       "      <th>std</th>\n",
       "      <td>41.604920</td>\n",
       "      <td>5.763404e+01</td>\n",
       "      <td>20.227320</td>\n",
       "      <td>37.322067</td>\n",
       "      <td>98.528101</td>\n",
       "      <td>35.596747</td>\n",
       "      <td>7.240438</td>\n",
       "    </tr>\n",
       "    <tr>\n",
       "      <th>min</th>\n",
       "      <td>0.000000</td>\n",
       "      <td>1.613229e+09</td>\n",
       "      <td>7.000000</td>\n",
       "      <td>-54.800000</td>\n",
       "      <td>-175.200000</td>\n",
       "      <td>-40.000000</td>\n",
       "      <td>0.760000</td>\n",
       "    </tr>\n",
       "    <tr>\n",
       "      <th>25%</th>\n",
       "      <td>1.000000</td>\n",
       "      <td>1.613230e+09</td>\n",
       "      <td>64.000000</td>\n",
       "      <td>-13.561650</td>\n",
       "      <td>-68.445700</td>\n",
       "      <td>20.705000</td>\n",
       "      <td>4.610000</td>\n",
       "    </tr>\n",
       "    <tr>\n",
       "      <th>50%</th>\n",
       "      <td>53.000000</td>\n",
       "      <td>1.613230e+09</td>\n",
       "      <td>77.000000</td>\n",
       "      <td>24.023200</td>\n",
       "      <td>24.731400</td>\n",
       "      <td>57.990000</td>\n",
       "      <td>6.910000</td>\n",
       "    </tr>\n",
       "    <tr>\n",
       "      <th>75%</th>\n",
       "      <td>90.000000</td>\n",
       "      <td>1.613230e+09</td>\n",
       "      <td>86.000000</td>\n",
       "      <td>48.716650</td>\n",
       "      <td>112.921950</td>\n",
       "      <td>78.410000</td>\n",
       "      <td>11.140000</td>\n",
       "    </tr>\n",
       "    <tr>\n",
       "      <th>max</th>\n",
       "      <td>100.000000</td>\n",
       "      <td>1.613230e+09</td>\n",
       "      <td>100.000000</td>\n",
       "      <td>78.218600</td>\n",
       "      <td>173.166700</td>\n",
       "      <td>105.330000</td>\n",
       "      <td>38.700000</td>\n",
       "    </tr>\n",
       "  </tbody>\n",
       "</table>\n",
       "</div>"
      ],
      "text/plain": [
       "       Cloudiness          Date    Humidity         Lat         Lng  \\\n",
       "count  123.000000  1.230000e+02  123.000000  123.000000  123.000000   \n",
       "mean    50.691057  1.613230e+09   72.227642   18.563832   19.740167   \n",
       "std     41.604920  5.763404e+01   20.227320   37.322067   98.528101   \n",
       "min      0.000000  1.613229e+09    7.000000  -54.800000 -175.200000   \n",
       "25%      1.000000  1.613230e+09   64.000000  -13.561650  -68.445700   \n",
       "50%     53.000000  1.613230e+09   77.000000   24.023200   24.731400   \n",
       "75%     90.000000  1.613230e+09   86.000000   48.716650  112.921950   \n",
       "max    100.000000  1.613230e+09  100.000000   78.218600  173.166700   \n",
       "\n",
       "         Max Temp  Wind Speed  \n",
       "count  123.000000  123.000000  \n",
       "mean    47.304390    9.126911  \n",
       "std     35.596747    7.240438  \n",
       "min    -40.000000    0.760000  \n",
       "25%     20.705000    4.610000  \n",
       "50%     57.990000    6.910000  \n",
       "75%     78.410000   11.140000  \n",
       "max    105.330000   38.700000  "
      ]
     },
     "execution_count": 10,
     "metadata": {},
     "output_type": "execute_result"
    }
   ],
   "source": [
    "# Make a new DataFrame equal to the city data to drop all humidity outliers by index.\n",
    "# Passing \"inplace=False\" will make a copy of the city_data DataFrame, which we call \"clean_city_data\".\n",
    "clean_city_data = weather_dict.drop(labels=high_humid,inplace=False)\n",
    "clean_city_data.head()\n",
    "clean_city_data.describe()"
   ]
  },
  {
   "cell_type": "code",
   "execution_count": 11,
   "metadata": {},
   "outputs": [],
   "source": [
    "date = date.today()\n"
   ]
  },
  {
   "cell_type": "markdown",
   "metadata": {},
   "source": [
    "## Plotting the Data\n",
    "* Use proper labeling of the plots using plot titles (including date of analysis) and axes labels.\n",
    "* Save the plotted figures as .pngs."
   ]
  },
  {
   "cell_type": "markdown",
   "metadata": {},
   "source": [
    "## Latitude vs. Temperature Plot"
   ]
  },
  {
   "cell_type": "code",
   "execution_count": 17,
   "metadata": {
    "scrolled": true
   },
   "outputs": [
    {
     "data": {
      "image/png": "[encoded data removed]",
      "text/plain": [
       "<Figure size 432x288 with 1 Axes>"
      ]
     },
     "metadata": {
      "needs_background": "light"
     },
     "output_type": "display_data"
    }
   ],
   "source": [
    "\n",
    "# Create Latitude vs. Temperature Plot scatter plot\n",
    "plt.scatter(weather_dict[\"Lat\"], weather_dict[\"Max Temp\"], facecolor = \"red\", edgecolor = \"black\")\n",
    "\n",
    "# Set title\n",
    "plt.title(f\"City Latitude vs. Max Temperature {date}\")\n",
    "\n",
    "# Set x axis label\n",
    "plt.xlabel(\"Latitude\")\n",
    "\n",
    "# Set y axis label\n",
    "plt.ylabel(\"Max Temperature (F)\")\n",
    "\n",
    "# Set grid line\n",
    "plt.grid(linestyle=\"-\", linewidth=1, alpha = 0.5)\n",
    "\n",
    "# Save the plotted figure as .pngs\n",
    "plt.savefig(\"LatvsMaxTemp.png\")"
   ]
  },
  {
   "cell_type": "markdown",
   "metadata": {},
   "source": [
    "## Latitude vs. Humidity Plot"
   ]
  },
  {
   "cell_type": "code",
   "execution_count": 18,
   "metadata": {},
   "outputs": [
    {
     "data": {
      "image/png": "[encoded data removed]",
      "text/plain": [
       "<Figure size 432x288 with 1 Axes>"
      ]
     },
     "metadata": {
      "needs_background": "light"
     },
     "output_type": "display_data"
    }
   ],
   "source": [
    "# Create Latitude vs. Humidity Plot scatter plot\n",
    "plt.scatter(weather_dict[\"Lat\"], weather_dict[\"Humidity\"], facecolor = \"orange\", edgecolor = \"black\")\n",
    "\n",
    "# Set title\n",
    "plt.title(f\"City Latitude vs. Humidity {date}\")\n",
    "\n",
    "# Set x axis label\n",
    "plt.xlabel(\"Latitude\")\n",
    "\n",
    "# Set y axis label\n",
    "plt.ylabel(\"Humidity (%)\")\n",
    "\n",
    "# Set grid line\n",
    "plt.grid(linestyle=\"-\", linewidth=1, alpha = 0.5)\n",
    "\n",
    "# Save the plotted figure as png\n",
    "plt.savefig(\"LatvsHum.png\")"
   ]
  },
  {
   "cell_type": "markdown",
   "metadata": {},
   "source": [
    "## Latitude vs. Cloudiness Plot"
   ]
  },
  {
   "cell_type": "code",
   "execution_count": 19,
   "metadata": {},
   "outputs": [
    {
     "data": {
      "image/png": "[encoded data removed]",
      "text/plain": [
       "<Figure size 432x288 with 1 Axes>"
      ]
     },
     "metadata": {
      "needs_background": "light"
     },
     "output_type": "display_data"
    }
   ],
   "source": [
    "\n",
    "# Create a Latitude vs. Cloudiness Plot scatter plot\n",
    "plt.scatter(weather_dict[\"Lat\"], weather_dict[\"Cloudiness\"], facecolor = \"yellow\", edgecolor= \"black\")\n",
    "\n",
    "# Set title\n",
    "plt.title(f\"City Latitude vs Cloudiness {date}\")\n",
    "\n",
    "# Set x axis label\n",
    "plt.xlabel(\"Latitude\")\n",
    "\n",
    "# Set y axis label\n",
    "plt.ylabel(\"Cloudiness\")\n",
    "\n",
    "# Set grid line\n",
    "plt.grid(linestyle=\"-\", linewidth=1, alpha = 0.5)\n",
    "\n",
    "# Save the plotted figure as png\n",
    "plt.savefig(\"LatvsCloud.png\")"
   ]
  },
  {
   "cell_type": "markdown",
   "metadata": {},
   "source": [
    "## Latitude vs. Wind Speed Plot"
   ]
  },
  {
   "cell_type": "code",
   "execution_count": 20,
   "metadata": {},
   "outputs": [
    {
     "data": {
      "image/png": "[encoded data removed]",
      "text/plain": [
       "<Figure size 432x288 with 1 Axes>"
      ]
     },
     "metadata": {
      "needs_background": "light"
     },
     "output_type": "display_data"
    }
   ],
   "source": [
    "# Create Latitude vs. Wind Speed Plot scatter plot\n",
    "plt.scatter(weather_dict[\"Lat\"], weather_dict[\"Wind Speed\"], facecolor =\"green\", edgecolor = \"black\")\n",
    "\n",
    "# Set title\n",
    "plt. title(f\"City Latitude vs. Wind Speed (mph) {date}\")\n",
    "\n",
    "# Set x axis label\n",
    "plt.xlabel(\"Latitude\")\n",
    "\n",
    "# Set y axis label\n",
    "plt.ylabel(\"Wind Speed (%)\")\n",
    "\n",
    "# Set y axis limit\n",
    "plt.ylim(-2,50)\n",
    "\n",
    "# Set grid line\n",
    "plt.grid(linestyle=\"-\", linewidth=1, alpha =0.5)\n",
    "\n",
    "# Save the plotted figure as png\n",
    "plt.savefig(\"LatvsWind.png\")"
   ]
  },
  {
   "cell_type": "markdown",
   "metadata": {},
   "source": [
    "## Linear Regression"
   ]
  },
  {
   "cell_type": "code",
   "execution_count": 22,
   "metadata": {},
   "outputs": [],
   "source": [
    "# Create Northern and Southern Hemisphere DataFrames\n",
    "northern_hemisphere = weather_dict.loc[weather_dict[\"Lat\"] >= 0]\n",
    "southern_hemisphere = weather_dict.loc[weather_dict[\"Lng\"] < 0]\n",
    "\n",
    "# Define function for creating linear agression and scatter plot\n",
    "def linear_agression(x,y):\n",
    "    print(f\"The r squared is : {round(st.pearsonr(x,y)[0],2)}\")\n",
    "    (slope, intercept, rvalue, pvalue, stderr) =  linregress(x,y)\n",
    "    regress_values = x * slope + intercept\n",
    "    line_eq = \"y = \" + str(round(slope,2)) + \"x + \" + str(round(intercept,2))\n",
    "    plt.scatter(x, y)\n",
    "    plt.plot(x,regress_values,\"r-\")\n",
    "    return line_eq\n",
    "\n",
    "# Define a function for annotating\n",
    "def annotate(line_eq, a, b):\n",
    "    plt.annotate(line_eq,(a,b),fontsize=15, color =\"red\")"
   ]
  },
  {
   "cell_type": "markdown",
   "metadata": {},
   "source": [
    "####  Northern Hemisphere - Max Temp vs. Latitude Linear Regression"
   ]
  },
  {
   "cell_type": "code",
   "execution_count": 23,
   "metadata": {},
   "outputs": [
    {
     "name": "stdout",
     "output_type": "stream",
     "text": [
      "The r squared is : -0.85\n"
     ]
    },
    {
     "data": {
      "image/png": "[encoded data removed]",
      "text/plain": [
       "<Figure size 432x288 with 1 Axes>"
      ]
     },
     "metadata": {
      "needs_background": "light"
     },
     "output_type": "display_data"
    }
   ],
   "source": [
    "# Call on function #1\n",
    "equation = linear_agression(northern_hemisphere[\"Lat\"], northern_hemisphere[\"Max Temp\"])\n",
    "\n",
    "# Call on function #2\n",
    "annotate(equation, 0, 0)\n",
    "\n",
    "#Set a title#\n",
    "plt.title(\"Northern Hemisphere - Max Temp vs. Latitude Linear Regression\")\n",
    "\n",
    "# Set xlabel\n",
    "plt.xlabel(\"Latitude\")\n",
    "\n",
    "#Set ylabel\n",
    "plt.ylabel(\"Max Temp (F)\")\n",
    "\n",
    "# Save the figure as png\n",
    "plt.savefig(\"NHemiMaxTempvsLatLinRegr.png\")"
   ]
  },
  {
   "cell_type": "markdown",
   "metadata": {},
   "source": [
    "####  Southern Hemisphere - Max Temp vs. Latitude Linear Regression"
   ]
  },
  {
   "cell_type": "code",
   "execution_count": 24,
   "metadata": {},
   "outputs": [
    {
     "name": "stdout",
     "output_type": "stream",
     "text": [
      "The r squared is : -0.72\n"
     ]
    },
    {
     "data": {
      "image/png": "[encoded data removed]",
      "text/plain": [
       "<Figure size 432x288 with 1 Axes>"
      ]
     },
     "metadata": {
      "needs_background": "light"
     },
     "output_type": "display_data"
    }
   ],
   "source": [
    "# Call on function #1\n",
    "equation = linear_agression(southern_hemisphere[\"Lat\"],southern_hemisphere[\"Max Temp\"])\n",
    "\n",
    "# Call on function #2\n",
    "annotate(equation, -30, 50)\n",
    "\n",
    "# Set a title\n",
    "plt.title(\"Southern Hemisphere - Max Temp vs. Latitude Linear Regression\")\n",
    "\n",
    "# Set xlabel\n",
    "plt.xlabel(\"Latitude\")\n",
    "\n",
    "# Set ylabel\n",
    "plt.ylabel(\"Max Temp (F)\")\n",
    "\n",
    "# Save the figure as png\n",
    "plt.savefig(\"SHemiMaxTempvsLatLinRegr.png\")"
   ]
  },
  {
   "cell_type": "markdown",
   "metadata": {},
   "source": [
    "####  Northern Hemisphere - Humidity (%) vs. Latitude Linear Regression"
   ]
  },
  {
   "cell_type": "code",
   "execution_count": 25,
   "metadata": {},
   "outputs": [
    {
     "name": "stdout",
     "output_type": "stream",
     "text": [
      "The r squared is : 0.33\n"
     ]
    },
    {
     "data": {
      "image/png": "[encoded data removed]",
      "text/plain": [
       "<Figure size 432x288 with 1 Axes>"
      ]
     },
     "metadata": {
      "needs_background": "light"
     },
     "output_type": "display_data"
    }
   ],
   "source": [
    "# Call on function #1\n",
    "equation = linear_agression(northern_hemisphere[\"Lat\"], northern_hemisphere[\"Humidity\"])\n",
    "\n",
    "# Call on function #2\n",
    "annotate(equation, 40, 15)\n",
    "\n",
    "# Set a title\n",
    "plt.title(\"Northern Hemisphere = Humidity (%) vs. Latitude Linear Regression\")\n",
    "\n",
    "# Set xlabel\n",
    "plt.xlabel(\"Latitude\")\n",
    "\n",
    "# Set ylabel\n",
    "plt.ylabel(\"Humidity (%)\")\n",
    "\n",
    "# Save the figure\n",
    "plt.savefig(\"NHemiHumvsLatLinRegr.png\")"
   ]
  },
  {
   "cell_type": "markdown",
   "metadata": {},
   "source": [
    "####  Southern Hemisphere - Humidity (%) vs. Latitude Linear Regression"
   ]
  },
  {
   "cell_type": "code",
   "execution_count": 26,
   "metadata": {},
   "outputs": [
    {
     "name": "stdout",
     "output_type": "stream",
     "text": [
      "The r squared is : -0.14\n"
     ]
    },
    {
     "data": {
      "image/png": "[encoded data removed]",
      "text/plain": [
       "<Figure size 432x288 with 1 Axes>"
      ]
     },
     "metadata": {
      "needs_background": "light"
     },
     "output_type": "display_data"
    }
   ],
   "source": [
    "# Call on function #1\n",
    "equation = linear_agression(southern_hemisphere[\"Lat\"], southern_hemisphere[\"Humidity\"])\n",
    "\n",
    "# Call on function #2\n",
    "annotate(equation, -40, 50)\n",
    "\n",
    "# Set title\n",
    "plt.title(\"Southern Hemishpere = Humidity (%) vs. Latitude Linear Regression\")\n",
    "\n",
    "# Set xlabel\n",
    "plt.xlabel(\"Latitude\")\n",
    "\n",
    "# Set ylabel\n",
    "plt.ylabel(\"Humidity (%)\")\n",
    "\n",
    "# Save the figure in png\n",
    "plt.savefig(\"SHemiHumvsLatLinRegr.png\")"
   ]
  },
  {
   "cell_type": "markdown",
   "metadata": {},
   "source": [
    "####  Northern Hemisphere - Cloudiness (%) vs. Latitude Linear Regression"
   ]
  },
  {
   "cell_type": "code",
   "execution_count": 27,
   "metadata": {},
   "outputs": [
    {
     "name": "stdout",
     "output_type": "stream",
     "text": [
      "The r squared is : 0.38\n"
     ]
    },
    {
     "data": {
      "image/png": "[encoded data removed]",
      "text/plain": [
       "<Figure size 432x288 with 1 Axes>"
      ]
     },
     "metadata": {
      "needs_background": "light"
     },
     "output_type": "display_data"
    }
   ],
   "source": [
    "# Call on function #1\n",
    "equation = linear_agression(northern_hemisphere[\"Lat\"], northern_hemisphere[\"Cloudiness\"])\n",
    "\n",
    "# Call on function #2\n",
    "annotate(equation, 30, 40)\n",
    "\n",
    "# Set a title\n",
    "plt.title(\"Northern Hemishpere - Cloudiness (%) vs Latitude Linear Regression\")\n",
    "\n",
    "# Set xlabel\n",
    "plt.xlabel(\"Latitude\")\n",
    "\n",
    "# Set ylabel\n",
    "plt.ylabel(\"Cloudiness (%)\")\n",
    "\n",
    "# Save the figure as a png\n",
    "plt.savefig(\"NHemiCloudvsLatLinRegr.png\")"
   ]
  },
  {
   "cell_type": "markdown",
   "metadata": {},
   "source": [
    "####  Southern Hemisphere - Cloudiness (%) vs. Latitude Linear Regression"
   ]
  },
  {
   "cell_type": "code",
   "execution_count": 28,
   "metadata": {},
   "outputs": [
    {
     "name": "stdout",
     "output_type": "stream",
     "text": [
      "The r squared is : 0.0\n"
     ]
    },
    {
     "data": {
      "image/png": "[encoded data removed]",
      "text/plain": [
       "<Figure size 432x288 with 1 Axes>"
      ]
     },
     "metadata": {
      "needs_background": "light"
     },
     "output_type": "display_data"
    }
   ],
   "source": [
    "# Call function #1\n",
    "equation = linear_agression(southern_hemisphere[\"Lat\"], southern_hemisphere[\"Cloudiness\"])\n",
    "\n",
    "# Call on function #2\n",
    "annotate(equation, -30, 40)\n",
    "\n",
    "# Set a title\n",
    "plt.title(\"Southern Hemisphere - Cloudiness (%) vs. Latitude Linear Regression\")\n",
    "\n",
    "# Set xlabel\n",
    "plt.xlabel(\"Latitude\")\n",
    "\n",
    "# Set ylabel\n",
    "plt.ylabel(\"Cloudiness (%)\")\n",
    "\n",
    "# Save the figure as png\n",
    "plt.savefig(\"SHemiCloudvsLatLinRegr.png\")"
   ]
  },
  {
   "cell_type": "markdown",
   "metadata": {},
   "source": [
    "####  Northern Hemisphere - Wind Speed (mph) vs. Latitude Linear Regression"
   ]
  },
  {
   "cell_type": "code",
   "execution_count": 29,
   "metadata": {},
   "outputs": [
    {
     "name": "stdout",
     "output_type": "stream",
     "text": [
      "The r squared is : 0.05\n"
     ]
    },
    {
     "data": {
      "image/png": "[encoded data removed]",
      "text/plain": [
       "<Figure size 432x288 with 1 Axes>"
      ]
     },
     "metadata": {
      "needs_background": "light"
     },
     "output_type": "display_data"
    }
   ],
   "source": [
    "# Call an function #1\n",
    "equation = linear_agression(northern_hemisphere[\"Lat\"], northern_hemisphere[\"Wind Speed\"])\n",
    "\n",
    "# Call an function #2\n",
    "annotate(equation, 40, 20)\n",
    "\n",
    "# Set  title\n",
    "plt.title(\"Northern Hemisphere - Wind Speed (mph) vs. Latitude Linear Regression\")\n",
    "\n",
    "# Set xlabel\n",
    "plt.xlabel(\"Latitude\")\n",
    "\n",
    "# Set ylabel\n",
    "plt.ylabel(\"Wind Speed (mph)\")\n",
    "\n",
    "# Save the figure\n",
    "plt.savefig(\"NHemiWindvsLatLinRegr.png\")"
   ]
  },
  {
   "cell_type": "markdown",
   "metadata": {},
   "source": [
    "####  Southern Hemisphere - Wind Speed (mph) vs. Latitude Linear Regression"
   ]
  },
  {
   "cell_type": "code",
   "execution_count": 30,
   "metadata": {},
   "outputs": [
    {
     "name": "stdout",
     "output_type": "stream",
     "text": [
      "The r squared is : 0.06\n"
     ]
    },
    {
     "data": {
      "image/png": "[encoded data removed]",
      "text/plain": [
       "<Figure size 432x288 with 1 Axes>"
      ]
     },
     "metadata": {
      "needs_background": "light"
     },
     "output_type": "display_data"
    }
   ],
   "source": [
    "# Call an function #1\n",
    "equation = linear_agression(southern_hemisphere[\"Lat\"], southern_hemisphere[\"Wind Speed\"])\n",
    "\n",
    "# Call an function #2\n",
    "annotate(equation, -30, 15)\n",
    "\n",
    "# Set  title\n",
    "plt.title(\"Southern Hemisphere - Wind Speed (mph) vs. Latitude Linear Regression\")\n",
    "\n",
    "# Set xlabel\n",
    "plt.xlabel(\"Latitude\")\n",
    "\n",
    "# Set ylabel\n",
    "plt.ylabel(\"Wind Speed (mph)\")\n",
    "\n",
    "# Save the figure\n",
    "plt.savefig(\"SHemiWindvsLatLinRegr.png\")"
   ]
  },
  {
   "cell_type": "code",
   "execution_count": null,
   "metadata": {},
   "outputs": [],
   "source": [
    "#Observations"
   ]
  }
 ],
 "metadata": {
  "anaconda-cloud": {},
  "kernel_info": {
   "name": "python3"
  },
  "kernelspec": {
   "display_name": "Python 3",
   "language": "python",
   "name": "python3"
  },
  "language_info": {
   "codemirror_mode": {
    "name": "ipython",
    "version": 3
   },
   "file_extension": ".py",
   "mimetype": "text/x-python",
   "name": "python",
   "nbconvert_exporter": "python",
   "pygments_lexer": "ipython3",
   "version": "3.8.3"
  },
  "latex_envs": {
   "LaTeX_envs_menu_present": true,
   "autoclose": false,
   "autocomplete": true,
   "bibliofile": "biblio.bib",
   "cite_by": "apalike",
   "current_citInitial": 1,
   "eqLabelWithNumbers": true,
   "eqNumInitial": 1,
   "hotkeys": {
    "equation": "Ctrl-E",
    "itemize": "Ctrl-I"
   },
   "labels_anchors": false,
   "latex_user_defs": false,
   "report_style_numbering": false,
   "user_envs_cfg": false
  },
  "nteract": {
   "version": "0.12.3"
  }
 },
 "nbformat": 4,
 "nbformat_minor": 2
}
